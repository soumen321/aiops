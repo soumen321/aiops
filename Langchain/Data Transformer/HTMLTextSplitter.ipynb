{
 "cells": [
  {
   "cell_type": "code",
   "execution_count": 4,
   "id": "d32d7b29",
   "metadata": {},
   "outputs": [
    {
     "data": {
      "text/plain": [
       "[Document(metadata={'Header 1': 'Welcome to My Sample Page'}, page_content='Welcome to My Sample Page'),\n",
       " Document(metadata={'Header 1': 'Welcome to My Sample Page', 'Header 2': 'About This Page'}, page_content='About This Page'),\n",
       " Document(metadata={'Header 1': 'Welcome to My Sample Page', 'Header 2': 'About This Page'}, page_content='This is a basic HTML file with a header, main content, and footer. You can use it as a starting point for your own web projects.  \\nHTML structure  \\nBasic styling  \\nResponsive layout  \\n© 2025 Your Name')]"
      ]
     },
     "execution_count": 4,
     "metadata": {},
     "output_type": "execute_result"
    }
   ],
   "source": [
    "from langchain_text_splitters import HTMLHeaderTextSplitter\n",
    "htmlString = \"\"\"\n",
    " <!DOCTYPE html>\n",
    "<html lang=\"en\">\n",
    "<head>\n",
    "    <meta charset=\"UTF-8\">\n",
    "    <title>Sample HTML Page</title>\n",
    "    <style>\n",
    "        body {\n",
    "            font-family: Arial, sans-serif;\n",
    "            margin: 40px;\n",
    "            background-color: #f4f4f4;\n",
    "        }\n",
    "        header, footer {\n",
    "            background-color: #333;\n",
    "            color: white;\n",
    "            padding: 10px;\n",
    "        }\n",
    "        main {\n",
    "            background-color: white;\n",
    "            padding: 20px;\n",
    "            border-radius: 8px;\n",
    "        }\n",
    "    </style>\n",
    "</head>\n",
    "<body>\n",
    "    <header>\n",
    "        <h1>Welcome to My Sample Page</h1>\n",
    "    </header>\n",
    "\n",
    "    <main>\n",
    "        <h2>About This Page</h2>\n",
    "        <p>This is a basic HTML file with a header, main content, and footer. You can use it as a starting point for your own web projects.</p>\n",
    "        <ul>\n",
    "            <li>HTML structure</li>\n",
    "            <li>Basic styling</li>\n",
    "            <li>Responsive layout</li>\n",
    "        </ul>\n",
    "    </main>\n",
    "\n",
    "    <footer>\n",
    "        <p>&copy; 2025 Your Name</p>\n",
    "    </footer>\n",
    "</body>\n",
    "</html>\"\"\"\n",
    "\n",
    "header_to_split_on=[\n",
    "    (\"h1\", \"Header 1\"),\n",
    "    (\"h2\", \"Header 2\")\n",
    "]\n",
    "\n",
    "html_splitter=HTMLHeaderTextSplitter(headers_to_split_on=header_to_split_on)\n",
    "docs=html_splitter.split_text(htmlString)\n",
    "docs"
   ]
  },
  {
   "cell_type": "code",
   "execution_count": null,
   "id": "5be08191",
   "metadata": {},
   "outputs": [],
   "source": []
  },
  {
   "cell_type": "code",
   "execution_count": null,
   "id": "f0011b71",
   "metadata": {},
   "outputs": [],
   "source": []
  },
  {
   "cell_type": "code",
   "execution_count": null,
   "id": "9b3a6cd0",
   "metadata": {},
   "outputs": [],
   "source": []
  }
 ],
 "metadata": {
  "kernelspec": {
   "display_name": "Python 3",
   "language": "python",
   "name": "python3"
  },
  "language_info": {
   "codemirror_mode": {
    "name": "ipython",
    "version": 3
   },
   "file_extension": ".py",
   "mimetype": "text/x-python",
   "name": "python",
   "nbconvert_exporter": "python",
   "pygments_lexer": "ipython3",
   "version": "3.12.0"
  }
 },
 "nbformat": 4,
 "nbformat_minor": 5
}
